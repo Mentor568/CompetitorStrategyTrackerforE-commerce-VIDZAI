{
  "nbformat": 4,
  "nbformat_minor": 0,
  "metadata": {
    "colab": {
      "provenance": [],
      "authorship_tag": "ABX9TyO6+D8papNrlJtD2Vo7SHzM",
      "include_colab_link": true
    },
    "kernelspec": {
      "name": "python3",
      "display_name": "Python 3"
    },
    "language_info": {
      "name": "python"
    }
  },
  "cells": [
    {
      "cell_type": "markdown",
      "metadata": {
        "id": "view-in-github",
        "colab_type": "text"
      },
      "source": [
        "<a href=\"https://colab.research.google.com/github/Mentor568/CompetitorStrategyTrackerforE-commerce-VIDZAI/blob/kavya-learning/Basics.ipynb\" target=\"_parent\"><img src=\"https://colab.research.google.com/assets/colab-badge.svg\" alt=\"Open In Colab\"/></a>"
      ]
    },
    {
      "cell_type": "code",
      "execution_count": null,
      "metadata": {
        "id": "HvA_JYdU6KqP"
      },
      "outputs": [],
      "source": [
        "# 1. Variables and Data Types\n",
        "x = 10         # Integer\n",
        "y = 3.14       # Float\n",
        "name = \"Alice\" # String\n",
        "is_python_fun = True  # Boolean\n",
        "numbers = [1, 2, 3, 4, 5]  # List\n",
        "coordinates = (10, 20)  # Tuple\n",
        "person = {\"name\": \"Alice\", \"age\": 25}  # Dictionary\n",
        "unique_numbers = {1, 2, 3, 3, 4}  # Set\n",
        "\n",
        "# 2. Basic Input & Output\n",
        "user_name = input(\"Enter your name: \")\n",
        "print(f\"Hello, {user_name}!\")\n",
        "\n",
        "# 3. Conditional Statements\n",
        "age = int(input(\"Enter your age: \"))\n",
        "if age >= 18:\n",
        "    print(\"You are an adult.\")\n",
        "elif age >= 13:\n",
        "    print(\"You are a teenager.\")\n",
        "else:\n",
        "    print(\"You are a child.\")\n",
        "\n",
        "# 4. Loops\n",
        "print(\"\\nFor Loop Example:\")\n",
        "for i in range(5):\n",
        "    print(i)\n",
        "\n",
        "print(\"\\nWhile Loop Example:\")\n",
        "count = 0\n",
        "while count < 3:\n",
        "    print(count)\n",
        "    count += 1\n",
        "\n",
        "# 5. Function\n",
        "def greet(name):\n",
        "    return f\"Hello, {name}!\"\n",
        "\n",
        "print(greet(user_name))\n",
        "\n",
        "# 6. Class and Object\n",
        "class Person:\n",
        "    def __init__(self, name, age):\n",
        "        self.name = name\n",
        "        self.age = age\n",
        "\n",
        "    def introduce(self):\n",
        "        return f\"My name is {self.name} and I am {self.age} years old.\"\n",
        "\n",
        "person1 = Person(\"Alice\", 25)\n",
        "print(person1.introduce())\n",
        "\n",
        "# 7. Exception Handling\n",
        "try:\n",
        "    result = 10 / 0  # This will cause a ZeroDivisionError\n",
        "except ZeroDivisionError:\n",
        "    print(\"Cannot divide by zero!\")\n",
        "finally:\n",
        "    print(\"Execution completed.\")\n",
        "\n",
        "# 8. Importing Modules\n",
        "import math\n",
        "print(f\"Square root of 16 is: {math.sqrt(16)}\")\n",
        "\n",
        "# 9. File Handling\n",
        "with open(\"example.txt\", \"w\") as file:\n",
        "    file.write(\"Hello, Python!\")\n",
        "\n",
        "with open(\"example.txt\", \"r\") as file:\n",
        "    content = file.read()\n",
        "    print(f\"File Content: {content}\")\n",
        "\n",
        "print(\"Program execution completed!\")"
      ]
    }
  ]
}