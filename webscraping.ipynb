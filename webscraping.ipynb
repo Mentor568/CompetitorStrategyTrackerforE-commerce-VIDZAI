{
 "cells": [
  {
   "cell_type": "code",
   "execution_count": 30,
   "id": "8cacf6a3-8e8e-4b78-94c4-8221bc66d716",
   "metadata": {},
   "outputs": [
    {
     "name": "stdout",
     "output_type": "stream",
     "text": [
      "✅ Scraping Completed! Data saved to ebay_dellxps15.csv.\n"
     ]
    }
   ],
   "source": [
    "from selenium import webdriver\n",
    "from selenium.webdriver.common.by import By\n",
    "from selenium.webdriver.chrome.service import Service\n",
    "from selenium.webdriver.chrome.options import Options\n",
    "from webdriver_manager.chrome import ChromeDriverManager\n",
    "import time\n",
    "import csv\n",
    "\n",
    "# Setup Chrome with Selenium\n",
    "chrome_options = Options()\n",
    "chrome_options.add_argument(\"--headless\")  # Run in headless mode \n",
    "chrome_options.add_argument(\"--no-sandbox\")\n",
    "chrome_options.add_argument(\"--disable-dev-shm-usage\")\n",
    "\n",
    "# Initialize WebDriver\n",
    "service = Service(ChromeDriverManager().install())\n",
    "driver = webdriver.Chrome(service=service, options=chrome_options)\n",
    "\n",
    "#  Define eBay Search URL\n",
    "search_url = \"https://www.ebay.com/sch/i.html?_nkw=Dell+XPS+15+2023\"\n",
    "driver.get(search_url)\n",
    "time.sleep(3)  # Allow page to load\n",
    "\n",
    "# Extract Product Listings\n",
    "products = driver.find_elements(By.CSS_SELECTOR, \"li.s-item\")\n",
    "\n",
    "#  Open CSV File for Saving Data\n",
    "csv_file = open(\"ebay_dell_xps_15.csv\", \"w\", newline=\"\", encoding=\"utf-8\")\n",
    "csv_writer = csv.writer(csv_file)\n",
    "csv_writer.writerow([\"Title\", \"Price\", \"Shipping\", \"Condition\", \"Seller Info\", \"Product Link\"])\n",
    "\n",
    "# Loop Through Listings & Extract Data\n",
    "for product in products:\n",
    "    try:\n",
    "        title = product.find_element(By.CSS_SELECTOR, \"h3.s-item__title\").text\n",
    "    except:\n",
    "        title = \"N/A\"\n",
    "\n",
    "    try:\n",
    "        price = product.find_element(By.CSS_SELECTOR, \"span.s-item__price\").text\n",
    "    except:\n",
    "        price = \"N/A\"\n",
    "\n",
    "    try:\n",
    "        shipping = product.find_element(By.CSS_SELECTOR, \"span.s-item__shipping\").text\n",
    "    except:\n",
    "        shipping = \"N/A\"\n",
    "\n",
    "    try:\n",
    "        condition = product.find_element(By.CSS_SELECTOR, \"span.SECONDARY_INFO\").text\n",
    "    except:\n",
    "        condition = \"N/A\"\n",
    "\n",
    "    try:\n",
    "        seller_info = product.find_element(By.CSS_SELECTOR, \"span.s-item__seller-info-text\").text\n",
    "    except:\n",
    "        seller_info = \"N/A\"\n",
    "\n",
    "    try:\n",
    "        product_link = product.find_element(By.CSS_SELECTOR, \"a.s-item__link\").get_attribute(\"href\")\n",
    "    except:\n",
    "        product_link = \"N/A\"\n",
    "\n",
    "    #  Write to CSV\n",
    "    csv_writer.writerow([title, price, shipping, condition, seller_info, product_link])\n",
    "\n",
    "# Close File & Browser\n",
    "csv_file.close()\n",
    "driver.quit()\n",
    "\n",
    "print(\"Scraping Completed! Data saved to ebay_dell_xps_15.csv.\")\n"
   ]
  },
  {
   "cell_type": "code",
   "execution_count": null,
   "id": "ec668717-4490-46c8-b18a-ac1b2aa8fab4",
   "metadata": {},
   "outputs": [],
   "source": []
  },
  {
   "cell_type": "code",
   "execution_count": null,
   "id": "7b33c3c1-8452-4511-a48c-285eaa835598",
   "metadata": {},
   "outputs": [],
   "source": []
  },
  {
   "cell_type": "code",
   "execution_count": null,
   "id": "e738bb6a-575d-44a7-afd3-b4d2d829d019",
   "metadata": {},
   "outputs": [],
   "source": []
  },
  {
   "cell_type": "code",
   "execution_count": null,
   "id": "58e0a995-269b-4be7-b75f-9812711fc4af",
   "metadata": {},
   "outputs": [],
   "source": []
  },
  {
   "cell_type": "code",
   "execution_count": null,
   "id": "8b66c26a-82e7-4110-a247-3288dddb8500",
   "metadata": {},
   "outputs": [],
   "source": []
  },
  {
   "cell_type": "code",
   "execution_count": null,
   "id": "3843fd25-87bd-4cc4-9169-1c8abef5dca4",
   "metadata": {},
   "outputs": [],
   "source": []
  },
  {
   "cell_type": "code",
   "execution_count": null,
   "id": "af467427-1f9e-4c7a-89a1-ab0704519f66",
   "metadata": {},
   "outputs": [],
   "source": []
  },
  {
   "cell_type": "code",
   "execution_count": null,
   "id": "d47d0a4a-cd7e-4d99-99e5-694a88ab24c2",
   "metadata": {},
   "outputs": [],
   "source": []
  },
  {
   "cell_type": "code",
   "execution_count": null,
   "id": "1d82e243-424a-4597-a80c-8471597a3637",
   "metadata": {},
   "outputs": [],
   "source": []
  },
  {
   "cell_type": "code",
   "execution_count": null,
   "id": "5463e834-4de9-4d4b-8535-330eef1c85fc",
   "metadata": {},
   "outputs": [],
   "source": []
  },
  {
   "cell_type": "code",
   "execution_count": null,
   "id": "ad50dc63-b436-4b71-9887-9c640e2e2089",
   "metadata": {},
   "outputs": [],
   "source": []
  },
  {
   "cell_type": "code",
   "execution_count": null,
   "id": "4b0bdfbc-50ab-40e2-af43-a786c7db01d4",
   "metadata": {},
   "outputs": [],
   "source": []
  }
 ],
 "metadata": {
  "kernelspec": {
   "display_name": "Python 3 (ipykernel)",
   "language": "python",
   "name": "python3"
  },
  "language_info": {
   "codemirror_mode": {
    "name": "ipython",
    "version": 3
   },
   "file_extension": ".py",
   "mimetype": "text/x-python",
   "name": "python",
   "nbconvert_exporter": "python",
   "pygments_lexer": "ipython3",
   "version": "3.12.7"
  }
 },
 "nbformat": 4,
 "nbformat_minor": 5
}
