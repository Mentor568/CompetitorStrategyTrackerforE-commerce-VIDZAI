{
  "nbformat": 4,
  "nbformat_minor": 0,
  "metadata": {
    "colab": {
      "provenance": []
    },
    "kernelspec": {
      "name": "python3",
      "display_name": "Python 3"
    },
    "language_info": {
      "name": "python"
    }
  },
  "cells": [
    {
      "cell_type": "code",
      "execution_count": 1,
      "metadata": {
        "colab": {
          "base_uri": "https://localhost:8080/"
        },
        "id": "3Ho4MSlHQxKH",
        "outputId": "a30bc640-e752-469b-8d76-1b34c778491b"
      },
      "outputs": [
        {
          "output_type": "stream",
          "name": "stdout",
          "text": [
            "Total number of products across all competitors and categories: 12\n"
          ]
        }
      ],
      "source": [
        "def count_products(data):\n",
        "    if isinstance(data, dict):\n",
        "        total = 0\n",
        "        for value in data.values():\n",
        "            total += count_products(value)\n",
        "        return total\n",
        "    elif isinstance(data, list):\n",
        "        return len(data)\n",
        "    else:\n",
        "        return 1\n",
        "\n",
        "competitor_data = {\n",
        "    \"CompetitorA\": {\n",
        "        \"Electronics\": {\n",
        "            \"Smart TV\": 499.99,\n",
        "            \"Laptop\": 1399.99\n",
        "        },\n",
        "        \"Accessories\": {\n",
        "            \"Bluetooth Speaker\": 59.99,\n",
        "            \"Smartwatch\": 249.99\n",
        "        }\n",
        "    },\n",
        "    \"CompetitorB\": {\n",
        "        \"Electronics\": {\n",
        "            \"Smartphone\": 849.99,\n",
        "            \"Tablet\": 399.99\n",
        "        },\n",
        "        \"Accessories\": {\n",
        "            \"Wireless Earbuds\": 149.99,\n",
        "            \"Fitness Tracker\": 129.99\n",
        "        }\n",
        "    },\n",
        "    \"CompetitorC\": [\n",
        "        359.0,\n",
        "        1199.0,\n",
        "        79.0,\n",
        "        229.0\n",
        "    ]\n",
        "}\n",
        "\n",
        "result = count_products(competitor_data)\n",
        "print(\"Total number of products across all competitors and categories:\", result)\n"
      ]
    }
  ]
}