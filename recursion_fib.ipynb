{
  "nbformat": 4,
  "nbformat_minor": 0,
  "metadata": {
    "colab": {
      "provenance": []
    },
    "kernelspec": {
      "name": "python3",
      "display_name": "Python 3"
    },
    "language_info": {
      "name": "python"
    }
  },
  "cells": [
    {
      "cell_type": "code",
      "execution_count": null,
      "metadata": {
        "colab": {
          "base_uri": "https://localhost:8080/"
        },
        "id": "P4QZRULZyXKW",
        "outputId": "bba1c07c-8ff1-43cd-9778-ec2b7dc39ef1"
      },
      "outputs": [
        {
          "output_type": "stream",
          "name": "stdout",
          "text": [
            "Enter the number of Fibonacci terms: 7\n",
            "Fibonacci series:\n",
            "0 1 1 2 3 5 8 "
          ]
        }
      ],
      "source": [
        "def fibonacci(n):\n",
        "\n",
        "    if n == 0:\n",
        "        return 0\n",
        "    elif n == 1:\n",
        "        return 1\n",
        "    else:\n",
        "\n",
        "        return fibonacci(n - 1) + fibonacci(n - 2)\n",
        "def print_fibonacci_series(count, current=0):\n",
        "    if current < count:\n",
        "        print(fibonacci(current), end=\" \")\n",
        "        print_fibonacci_series(count, current + 1)\n",
        "\n",
        "\n",
        "num_terms = int(input(\"Enter the number of Fibonacci terms: \"))\n",
        "\n",
        "if num_terms <= 0:\n",
        "    print(\"Please enter a positive integer.\")\n",
        "else:\n",
        "    print(\"Fibonacci series:\")\n",
        "    print_fibonacci_series(num_terms)"
      ]
    }
  ]
}