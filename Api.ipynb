{
  "cells": [
    {
      "cell_type": "markdown",
      "metadata": {
        "id": "view-in-github",
        "colab_type": "text"
      },
      "source": [
        "<a href=\"https://colab.research.google.com/github/Mentor568/CompetitorStrategyTrackerforE-commerce-VIDZAI/blob/kavya-learning/Api.ipynb\" target=\"_parent\"><img src=\"https://colab.research.google.com/assets/colab-badge.svg\" alt=\"Open In Colab\"/></a>"
      ]
    },
    {
      "cell_type": "code",
      "source": [
        "from flask import Flask, jsonify\n",
        "from threading import Thread\n",
        "app = Flask(__name__)\n",
        "@app.route('/name', methods=['GET'])\n",
        "def name():\n",
        "  return jsonify({\"Name\" : \"Kavya\"})\n",
        "\n",
        "def run():\n",
        "  app.run(port=6661)\n",
        "\n",
        "t = Thread(target=run)\n",
        "t.start()\n",
        "\n"
      ],
      "metadata": {
        "colab": {
          "base_uri": "https://localhost:8080/"
        },
        "id": "lLqHbyssr8Vj",
        "outputId": "99acc822-ee2a-49b1-cbb5-b5ce15dd7a3f"
      },
      "execution_count": null,
      "outputs": [
        {
          "output_type": "stream",
          "name": "stdout",
          "text": [
            " * Serving Flask app '__main__'\n",
            " * Debug mode: off\n"
          ]
        },
        {
          "output_type": "stream",
          "name": "stderr",
          "text": [
            "INFO:werkzeug:\u001b[31m\u001b[1mWARNING: This is a development server. Do not use it in a production deployment. Use a production WSGI server instead.\u001b[0m\n",
            " * Running on http://127.0.0.1:6661\n",
            "INFO:werkzeug:\u001b[33mPress CTRL+C to quit\u001b[0m\n"
          ]
        }
      ]
    },
    {
      "cell_type": "code",
      "source": [
        "import httpx\n",
        "\n",
        "url = \"http://127.0.0.1:6661/name\"\n",
        "response = httpx.get(url)\n",
        "\n",
        "if response.status_code == 200:\n",
        "    print(\"API Response:\", response.json())\n",
        "else:\n",
        "    print(\"Error:\", response.status_code)\n"
      ],
      "metadata": {
        "colab": {
          "base_uri": "https://localhost:8080/"
        },
        "id": "y57yOGxeLTUC",
        "outputId": "77e7a31a-6ac5-48a2-bccd-401d4e2cc5a4"
      },
      "execution_count": null,
      "outputs": [
        {
          "output_type": "stream",
          "name": "stderr",
          "text": [
            "INFO:werkzeug:127.0.0.1 - - [21/Feb/2025 06:33:59] \"GET /name HTTP/1.1\" 200 -\n"
          ]
        },
        {
          "output_type": "stream",
          "name": "stdout",
          "text": [
            "API Response: {'Name': 'Kavya'}\n"
          ]
        }
      ]
    },
    {
      "cell_type": "code",
      "source": [],
      "metadata": {
        "id": "SzLnEgJE0fin"
      },
      "execution_count": null,
      "outputs": []
    }
  ],
  "metadata": {
    "colab": {
      "provenance": [],
      "gpuType": "T4",
      "authorship_tag": "ABX9TyOv2oxNLVm33davH/r8UcDf",
      "include_colab_link": true
    },
    "kernelspec": {
      "display_name": "Python 3",
      "name": "python3"
    },
    "language_info": {
      "name": "python"
    }
  },
  "nbformat": 4,
  "nbformat_minor": 0
}